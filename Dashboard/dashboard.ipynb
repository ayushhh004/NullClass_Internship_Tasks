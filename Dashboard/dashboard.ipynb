{
 "cells": [
  {
   "cell_type": "code",
   "execution_count": 43,
   "metadata": {},
   "outputs": [],
   "source": [
    "import os\n",
    "import webbrowser\n",
    "import pytz\n",
    "from datetime import datetime"
   ]
  },
  {
   "cell_type": "code",
   "execution_count": 44,
   "metadata": {},
   "outputs": [],
   "source": [
    "# Path for HTML and image files\n",
    "html_files_path = \"./\"\n",
    "if not os.path.exists(html_files_path):\n",
    "    os.makedirs(html_files_path)\n",
    "\n",
    "# Placeholder for chart containers\n",
    "plot_containers = \"\"\n",
    "\n",
    "# Current time\n",
    "now_ist = datetime.now(pytz.timezone('Asia/Kolkata'))\n",
    "current_hour = now_ist.hour"
   ]
  },
  {
   "cell_type": "code",
   "execution_count": 45,
   "metadata": {},
   "outputs": [],
   "source": [
    "#HTML Dashboard\n",
    "dashboard_html = \"\"\"\n",
    "<!DOCTYPE html>\n",
    "<html lang=\"en\">\n",
    "<head>\n",
    "    <meta charset=\"UTF-8\">\n",
    "    <meta name=\"viewport\" content=\"width=device-width, initial-scale=1.0\">\n",
    "    <title>Google Play Store Review Analytics</title>\n",
    "    <style>\n",
    "        body {{\n",
    "            font-family: Arial, sans-serif;\n",
    "            background-color: #333;\n",
    "            color: #fff;\n",
    "            margin: 0;\n",
    "            padding: 0;\n",
    "        }}\n",
    "        .header {{\n",
    "            text-align: center;\n",
    "            padding: 20px;\n",
    "            background-color: #444;\n",
    "        }}\n",
    "        .container {{\n",
    "            display: flex;\n",
    "            flex-wrap: wrap;\n",
    "            justify-content: center;\n",
    "            padding: 20px;\n",
    "        }}\n",
    "        .plot-container {{\n",
    "            border: 2px solid #555;\n",
    "            margin: 10px;\n",
    "            padding: 10px;\n",
    "            width: 400px;\n",
    "            height: 300px;\n",
    "            background-color: #222;\n",
    "            border-radius: 8px;\n",
    "            box-shadow: 0px 4px 6px rgba(0, 0, 0, 0.6);\n",
    "            text-align: center;\n",
    "            position: relative;\n",
    "            cursor: pointer;\n",
    "        }}\n",
    "        .plot-container img {{\n",
    "            max-width: 100%;\n",
    "            max-height: 80%;\n",
    "            border-radius: 4px;\n",
    "        }}\n",
    "        .plot-container:hover {{\n",
    "            background-color: #444;\n",
    "        }}\n",
    "        .insights {{\n",
    "            margin-top: 10px;\n",
    "            font-size: 14px;\n",
    "            color: #ddd;\n",
    "        }}\n",
    "        .message {{\n",
    "            font-size: 16px;\n",
    "            color: #ff6347;\n",
    "            margin-top: 20px;\n",
    "            text-align: center;\n",
    "        }}\n",
    "    </style>\n",
    "</head>\n",
    "<body>\n",
    "    <div class=\"header\">\n",
    "        <h1>Google Play Store Reviews Analytics</h1>\n",
    "    </div>\n",
    "    <div class=\"container\">\n",
    "        {plots}\n",
    "        <div class=\"message\">\n",
    "            {message}\n",
    "        </div>\n",
    "    </div>\n",
    "</body>\n",
    "</html>\n",
    "\"\"\"\n"
   ]
  },
  {
   "cell_type": "code",
   "execution_count": 46,
   "metadata": {},
   "outputs": [],
   "source": [
    "# Task 1: Show Word Cloud\n",
    "plot_containers += \"\"\"\n",
    "<div class=\"plot-container\" onclick=\"window.open('file:///C:/Users/Ayush%20Singh/NullClass/Task1/wordcloud_health_fitness.html', '_blank')\">\n",
    "    <img src=\"file:///C:/Users/Ayush%20Singh/NullClass/Task1/wordcloud_health_fitness.png\" alt=\"Word Cloud Preview\">\n",
    "    <div class=\"insights\">Word Cloud: Health & Fitness Reviews</div>\n",
    "</div>\n",
    "\"\"\"\n"
   ]
  },
  {
   "cell_type": "code",
   "execution_count": 47,
   "metadata": {},
   "outputs": [],
   "source": [
    "# Task 2: Show Bar Chart (Available from 3 PM to 5 PM)\n",
    "bar_chart_message = \"\"\n",
    "if 15 <= current_hour < 17:\n",
    "    plot_containers += \"\"\"\n",
    "    <div class=\"plot-container\" onclick=\"window.open('file:///C:/Users/Ayush Singh/NullClass/Task 2/Bar_Graph.html', '_blank')\">\n",
    "        <img src=\"C:/Users/Ayush Singh/NullClass/Task 2/Bar_Graph.png\" alt=\"Bar Chart Preview\">\n",
    "        <div class=\"insights\">Bar Chart: Top 10 Categories</div>\n",
    "    </div>\n",
    "\"\"\"\n",
    "else:\n",
    "    bar_chart_message = \"Bar Chart is available between 3 PM and 5 PM.\""
   ]
  },
  {
   "cell_type": "code",
   "execution_count": 48,
   "metadata": {},
   "outputs": [],
   "source": [
    "# Task 3: Show Violin Plot (Available from 4 PM to 6 PM)\n",
    "violin_plot_message = \"\"\n",
    "if 16 <= current_hour < 18:\n",
    "    plot_containers += \"\"\"\n",
    "    <div class=\"plot-container\" onclick=\"window.open('file:///C:/Users/Ayush Singh/NullClass/Task 3/Violin_Plot.html', '_blank')\">\n",
    "        <img src=\"C:/Users/Ayush Singh/NullClass/Task 3/Violin_Plot.png\" alt=\"Violin Plot Preview\">\n",
    "        <div class=\"insights\">Violin Plot: Distribution of Ratings</div>\n",
    "    </div>\n",
    "\"\"\"\n",
    "else:\n",
    "    violin_plot_message = \"Violin Plot is available between 4 PM and 6 PM.\"\n"
   ]
  },
  {
   "cell_type": "code",
   "execution_count": 49,
   "metadata": {},
   "outputs": [],
   "source": [
    "# Combining the plot containers and messages\n",
    "message = bar_chart_message + \"<br>\" + violin_plot_message\n",
    "\n",
    "final_html = dashboard_html.format(plots=plot_containers, message=message)\n"
   ]
  },
  {
   "cell_type": "code",
   "execution_count": 50,
   "metadata": {},
   "outputs": [
    {
     "name": "stdout",
     "output_type": "stream",
     "text": [
      "Dashboard HTML file generated successfully!\n"
     ]
    }
   ],
   "source": [
    "# Save the dashboard\n",
    "dashboard_path = os.path.join(html_files_path, \"dashboard.html\")\n",
    "with open(dashboard_path, \"w\", encoding=\"utf-8\") as file:\n",
    "    file.write(final_html)\n",
    "\n",
    "print(\"Dashboard HTML file generated successfully!\")"
   ]
  },
  {
   "cell_type": "code",
   "execution_count": 51,
   "metadata": {},
   "outputs": [
    {
     "data": {
      "text/plain": [
       "True"
      ]
     },
     "execution_count": 51,
     "metadata": {},
     "output_type": "execute_result"
    }
   ],
   "source": [
    "# Open the dashboard in web browser\n",
    "webbrowser.open('file://' + os.path.realpath(dashboard_path))"
   ]
  }
 ],
 "metadata": {
  "kernelspec": {
   "display_name": "Python 3",
   "language": "python",
   "name": "python3"
  },
  "language_info": {
   "codemirror_mode": {
    "name": "ipython",
    "version": 3
   },
   "file_extension": ".py",
   "mimetype": "text/x-python",
   "name": "python",
   "nbconvert_exporter": "python",
   "pygments_lexer": "ipython3",
   "version": "3.11.9"
  }
 },
 "nbformat": 4,
 "nbformat_minor": 2
}
