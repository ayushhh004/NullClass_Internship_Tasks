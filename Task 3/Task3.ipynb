{
 "cells": [
  {
   "cell_type": "code",
   "execution_count": 21,
   "id": "ac794663-e4a7-4199-aa41-de4143ee1194",
   "metadata": {},
   "outputs": [],
   "source": [
    "import os\n",
    "import pandas as pd\n",
    "import plotly.express as px\n",
    "from datetime import datetime\n",
    "import pytz\n",
    "import plotly.io as pio"
   ]
  },
  {
   "cell_type": "code",
   "execution_count": 22,
   "id": "2ac59b95",
   "metadata": {},
   "outputs": [
    {
     "name": "stdout",
     "output_type": "stream",
     "text": [
      "App Data Columns: Index(['App', 'Category', 'Rating', 'Reviews', 'Size', 'Installs', 'Type',\n",
      "       'Price', 'Content Rating', 'Genres', 'Last Updated', 'Current Ver',\n",
      "       'Android Ver'],\n",
      "      dtype='object')\n"
     ]
    }
   ],
   "source": [
    "# Reading the dataset\n",
    "app_data = pd.read_csv(\"C:/Users/Ayush Singh/NullClass/google_play_store_data/googleplaystore.csv\")\n",
    "print(\"App Data Columns:\", app_data.columns)"
   ]
  },
  {
   "cell_type": "code",
   "execution_count": 23,
   "id": "67bbf9bc",
   "metadata": {},
   "outputs": [],
   "source": [
    "# Clean 'Size' column, replace 'Varies with device' with None, and converting to numeric\n",
    "app_data['Size'] = app_data['Size'].replace('Varies with device', None)\n",
    "app_data['Size'] = app_data['Size'].str.replace('M', '').str.replace('k', '')\n",
    "app_data['Size'] = pd.to_numeric(app_data['Size'], errors='coerce')"
   ]
  },
  {
   "cell_type": "code",
   "execution_count": 24,
   "id": "542eac2a",
   "metadata": {},
   "outputs": [],
   "source": [
    "# Converting 'Last Updated' to datetime\n",
    "app_data['Last Updated'] = pd.to_datetime(app_data['Last Updated'], errors='coerce')"
   ]
  },
  {
   "cell_type": "code",
   "execution_count": 25,
   "id": "c5b45215",
   "metadata": {},
   "outputs": [],
   "source": [
    "# Converting 'Reviews' column to numeric\n",
    "app_data['Reviews'] = pd.to_numeric(app_data['Reviews'], errors='coerce')"
   ]
  },
  {
   "cell_type": "code",
   "execution_count": 26,
   "id": "f0e2e5f9",
   "metadata": {},
   "outputs": [],
   "source": [
    "# Filtering the data\n",
    "df_filtered = app_data[ \n",
    "    ~(app_data['Rating'] < 4.0) & \n",
    "    ~(app_data['Reviews'] < 10) & \n",
    "    (app_data['App'].str.contains('C', case=False, na=False))\n",
    "]"
   ]
  },
  {
   "cell_type": "code",
   "execution_count": 27,
   "id": "19e3fca7",
   "metadata": {},
   "outputs": [],
   "source": [
    "# Filter by category with more than 50 apps\n",
    "category_counts = df_filtered['Category'].value_counts()\n",
    "valid_categories = category_counts[category_counts > 50].index\n",
    "df_filtered = df_filtered[df_filtered['Category'].isin(valid_categories)]"
   ]
  },
  {
   "cell_type": "code",
   "execution_count": 28,
   "id": "7d72b31b",
   "metadata": {},
   "outputs": [
    {
     "name": "stdout",
     "output_type": "stream",
     "text": [
      "Remaining Categories: ['BOOKS_AND_REFERENCE' 'BUSINESS' 'COMMUNICATION' 'DATING' 'EDUCATION'\n",
      " 'FINANCE' 'FOOD_AND_DRINK' 'HEALTH_AND_FITNESS' 'LIFESTYLE' 'GAME'\n",
      " 'FAMILY' 'MEDICAL' 'SOCIAL' 'SHOPPING' 'PHOTOGRAPHY' 'SPORTS'\n",
      " 'TRAVEL_AND_LOCAL' 'TOOLS' 'PERSONALIZATION' 'PRODUCTIVITY'\n",
      " 'NEWS_AND_MAGAZINES']\n"
     ]
    }
   ],
   "source": [
    "# Getting the remaining categories after filtering\n",
    "remaining_categories = df_filtered['Category'].unique()\n",
    "print(\"Remaining Categories:\", remaining_categories)"
   ]
  },
  {
   "cell_type": "code",
   "execution_count": 29,
   "id": "f7230438",
   "metadata": {},
   "outputs": [
    {
     "name": "stdout",
     "output_type": "stream",
     "text": [
      "Remaining Categories and their app counts:\n",
      " Category\n",
      "FAMILY                 679\n",
      "GAME                   431\n",
      "TOOLS                  291\n",
      "PHOTOGRAPHY            175\n",
      "PERSONALIZATION        164\n",
      "COMMUNICATION          162\n",
      "PRODUCTIVITY           162\n",
      "SPORTS                 156\n",
      "FINANCE                147\n",
      "HEALTH_AND_FITNESS     145\n",
      "MEDICAL                135\n",
      "BUSINESS               131\n",
      "SOCIAL                 127\n",
      "SHOPPING               113\n",
      "LIFESTYLE              102\n",
      "DATING                  90\n",
      "TRAVEL_AND_LOCAL        87\n",
      "EDUCATION               83\n",
      "NEWS_AND_MAGAZINES      71\n",
      "BOOKS_AND_REFERENCE     61\n",
      "FOOD_AND_DRINK          51\n",
      "Name: count, dtype: int64\n"
     ]
    }
   ],
   "source": [
    "# Counting the number of apps per category in the filtered dataset\n",
    "category_counts_remaining = df_filtered['Category'].value_counts()\n",
    "print(\"Remaining Categories and their app counts:\\n\", category_counts_remaining)"
   ]
  },
  {
   "cell_type": "code",
   "execution_count": 30,
   "id": "50e4ab71",
   "metadata": {},
   "outputs": [],
   "source": [
    "# all categories are included, even those with no data after filtering\n",
    "all_categories = app_data['Category'].unique()"
   ]
  },
  {
   "cell_type": "code",
   "execution_count": 31,
   "id": "1d73be5d",
   "metadata": {},
   "outputs": [],
   "source": [
    "# Current time\n",
    "now_ist = datetime.now(pytz.timezone('Asia/Kolkata'))\n",
    "current_hour = now_ist.hour"
   ]
  },
  {
   "cell_type": "code",
   "execution_count": 32,
   "id": "4daa2929",
   "metadata": {},
   "outputs": [
    {
     "name": "stdout",
     "output_type": "stream",
     "text": [
      "The graph is only available between 4 PM and 6 PM IST.\n"
     ]
    }
   ],
   "source": [
    "# Checking current time is between 4 PM and 6 PM\n",
    "if 16 <= current_hour < 18:\n",
    "    # Creating violin plot \n",
    "    fig_violin = px.violin(\n",
    "        df_filtered,\n",
    "        x='Category',\n",
    "        y='Rating',\n",
    "        color='Category',\n",
    "        box=True, \n",
    "        points='all', \n",
    "        title='Distribution of Ratings for App Categories (Filtered)',\n",
    "        labels={\"Category\": \"App Category\", \"Rating\": \"App Rating\"},\n",
    "        category_orders={\"Category\": sorted(remaining_categories)}, \n",
    "        template='plotly'\n",
    "    )\n",
    "\n",
    "    # Layout for the violin plot\n",
    "    fig_violin.update_layout(\n",
    "        title_font_size=16,\n",
    "        xaxis_title_font_size=12,\n",
    "        yaxis_title_font_size=12,\n",
    "        xaxis_tickangle=45,\n",
    "        xaxis_tickfont=dict(size=10),\n",
    "        yaxis_tickfont=dict(size=10),\n",
    "        showlegend=False\n",
    "    )\n",
    "\n",
    "    # Path to save HTML and PNG files\n",
    "    html_files_path = \"./\"  \n",
    "    if not os.path.exists(html_files_path):\n",
    "        os.makedirs(html_files_path)\n",
    "    \n",
    "    # Save as HTML\n",
    "    file_path_html = os.path.join(html_files_path, \"Violin_Plot.html\")\n",
    "    fig_violin.write_html(file_path_html)\n",
    "\n",
    "    # Save as PNG\n",
    "    file_path_png = os.path.join(html_files_path, \"Violin_Plot.png\")\n",
    "    pio.write_image(fig_violin, file_path_png)\n",
    "\n",
    "    # Show\n",
    "    fig_violin.show()\n",
    "\n",
    "else:\n",
    "    print(\"The graph is only available between 4 PM and 6 PM IST.\")"
   ]
  }
 ],
 "metadata": {
  "kernelspec": {
   "display_name": "Python 3",
   "language": "python",
   "name": "python3"
  },
  "language_info": {
   "codemirror_mode": {
    "name": "ipython",
    "version": 3
   },
   "file_extension": ".py",
   "mimetype": "text/x-python",
   "name": "python",
   "nbconvert_exporter": "python",
   "pygments_lexer": "ipython3",
   "version": "3.11.9"
  }
 },
 "nbformat": 4,
 "nbformat_minor": 5
}
