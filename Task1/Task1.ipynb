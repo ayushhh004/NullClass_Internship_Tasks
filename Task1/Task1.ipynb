{
 "cells": [
  {
   "cell_type": "code",
   "execution_count": null,
   "id": "0",
   "metadata": {},
   "outputs": [],
   "source": [
    "import pandas as pd\n",
    "import re\n",
    "from wordcloud import WordCloud, STOPWORDS\n",
    "import plotly.graph_objects as go\n",
    "import plotly.io as pio\n",
    "import os"
   ]
  },
  {
   "cell_type": "code",
   "execution_count": null,
   "id": "1",
   "metadata": {},
   "outputs": [],
   "source": [
    "# Load datasets\n",
    "app_data = pd.read_csv(\"C:/Users/Ayush Singh/NullClass/google_play_store_data/googleplaystore.csv\")\n",
    "reviews_data = pd.read_csv(\"C:/Users/Ayush Singh/NullClass/google_play_store_data/googleplaystore_user_reviews.csv\")"
   ]
  },
  {
   "cell_type": "code",
   "execution_count": null,
   "id": "2",
   "metadata": {},
   "outputs": [],
   "source": [
    "# Filter for Health & Fitness category\n",
    "health_fitness_apps = app_data[app_data['Category'] == 'HEALTH_AND_FITNESS']"
   ]
  },
  {
   "cell_type": "code",
   "execution_count": null,
   "id": "3",
   "metadata": {},
   "outputs": [],
   "source": [
    "# Extract unique app names in the 'Health & Fitness' category\n",
    "health_fitness_app_names = health_fitness_apps['App'].unique()\n",
    "print(\"Number of Health & Fitness Apps:\", len(health_fitness_app_names))"
   ]
  },
  {
   "cell_type": "code",
   "execution_count": null,
   "id": "4",
   "metadata": {},
   "outputs": [],
   "source": [
    "# Filter reviews for apps in 'Health & Fitness' category\n",
    "health_fitness_reviews = reviews_data[reviews_data['App'].isin(health_fitness_app_names)]"
   ]
  },
  {
   "cell_type": "code",
   "execution_count": null,
   "id": "5",
   "metadata": {},
   "outputs": [],
   "source": [
    "# Focus on 5-star reviews (Positive Sentiment)\n",
    "filtered_reviews = health_fitness_reviews[health_fitness_reviews['Sentiment'] == 'Positive']\n",
    "print(\"Number of 5-Star Reviews:\", len(filtered_reviews))"
   ]
  },
  {
   "cell_type": "code",
   "execution_count": null,
   "id": "6",
   "metadata": {},
   "outputs": [],
   "source": [
    "# Combine all reviews into a single string\n",
    "review_text = \" \".join(filtered_reviews['Translated_Review'].dropna())\n",
    "print(\"Sample Review Text:\", review_text[:300])"
   ]
  },
  {
   "cell_type": "code",
   "execution_count": null,
   "id": "7",
   "metadata": {},
   "outputs": [],
   "source": [
    "# List of stopwords from WordCloud's built-in stopwords\n",
    "stopwords = set(STOPWORDS)\n",
    "app_names = health_fitness_app_names.tolist()"
   ]
  },
  {
   "cell_type": "code",
   "execution_count": null,
   "id": "8",
   "metadata": {},
   "outputs": [],
   "source": [
    "def clean_text(text):\n",
    "    # Convert text to lowercase\n",
    "    text = text.lower() \n",
    "    # Remove app names from the text\n",
    "    text = re.sub(r'\\b(' + '|'.join(map(re.escape, app_names)) + r')\\b', '', text)  \n",
    "    # Remove special characters, digits, and punctuation\n",
    "    text = re.sub(r'[^a-z\\s]', '', text)  \n",
    "    # Remove extra spaces\n",
    "    text = re.sub(r'\\s+', ' ', text)  \n",
    "    return text"
   ]
  },
  {
   "cell_type": "code",
   "execution_count": null,
   "id": "9",
   "metadata": {},
   "outputs": [],
   "source": [
    "# Clean the review text\n",
    "cleaned_text = clean_text(review_text)"
   ]
  },
  {
   "cell_type": "code",
   "execution_count": null,
   "id": "10",
   "metadata": {},
   "outputs": [],
   "source": [
    "# Remove stopwords\n",
    "cleaned_text = \" \".join([word for word in cleaned_text.split() if word not in stopwords]) \n",
    "print(\"Sample Cleaned Text:\", cleaned_text[:300])\n",
    "wordcloud = WordCloud(width=1500, height=1000, background_color='white', colormap='plasma').generate(cleaned_text)"
   ]
  },
  {
   "cell_type": "code",
   "execution_count": null,
   "id": "11",
   "metadata": {},
   "outputs": [],
   "source": [
    "# Convert the WordCloud object to a NumPy array\n",
    "wordcloud_array = wordcloud.to_array()"
   ]
  },
  {
   "cell_type": "code",
   "execution_count": null,
   "id": "12",
   "metadata": {},
   "outputs": [],
   "source": [
    "# Save the word cloud as a PNG file\n",
    "png_file_path = \"wordcloud_health_fitness.png\"\n",
    "wordcloud.to_file(png_file_path)\n",
    "print(f\"Word Cloud saved as PNG at: {png_file_path}\")"
   ]
  },
  {
   "cell_type": "code",
   "execution_count": null,
   "id": "13",
   "metadata": {},
   "outputs": [],
   "source": [
    "# Create the HTML folder \n",
    "html_files_path = \"./\"\n",
    "if not os.path.exists(html_files_path):\n",
    "    os.makedirs(html_files_path)\n",
    "\n",
    "# Function to save the plot as an HTML file\n",
    "plot_containers = \"\"\n",
    "def save_plot_as_html(fig, filename, insight):\n",
    "    global plot_containers\n",
    "    filepath = os.path.join(html_files_path, filename)\n",
    "    html_content = pio.to_html(fig, full_html=False, include_plotlyjs='inline')\n",
    "   \n",
    "    plot_containers += f\"\"\"\n",
    "    <div class=\"plot-container\" id=\"{filename}\" onclick=\"openPlot('{filename}')\">\n",
    "        <div class=\"plot\">{html_content}</div>\n",
    "        <div class=\"insights\">{insight}</div>\n",
    "    </div>\n",
    "    \"\"\"\n",
    "    fig.write_html(filepath, full_html=False, include_plotlyjs='inline')\n",
    "fig = go.Figure()\n",
    "fig.add_trace(\n",
    "    go.Image(\n",
    "        z=wordcloud_array\n",
    "    )\n",
    ")\n",
    "fig.update_layout(\n",
    "    title={\n",
    "        'text': 'Word Cloud for 5-Star Reviews in Health & Fitness Apps',\n",
    "        'y': 0.9,\n",
    "        'x': 0.5,  \n",
    "        'xanchor': 'center',\n",
    "        'yanchor': 'top',\n",
    "        'font': {'size': 16, 'color': 'black'}\n",
    "    },\n",
    "    xaxis=dict(visible=False),\n",
    "    yaxis=dict(visible=False),\n",
    "    margin=dict(l=0, r=0, t=100, b=0), \n",
    ")\n",
    "# Display the figure\n",
    "fig.show()"
   ]
  },
  {
   "cell_type": "code",
   "execution_count": null,
   "id": "14",
   "metadata": {},
   "outputs": [],
   "source": [
    "# Save the plot as HTML\n",
    "save_plot_as_html(fig, \"wordcloud_health_fitness.html\", \"This word cloud represents the most frequent words in 5-star reviews for Health & Fitness apps.\")"
   ]
  }
 ],
 "metadata": {
  "kernelspec": {
   "display_name": "Python 3",
   "language": "python",
   "name": "python3"
  },
  "language_info": {
   "codemirror_mode": {
    "name": "ipython",
    "version": 3
   },
   "file_extension": ".py",
   "mimetype": "text/x-python",
   "name": "python",
   "nbconvert_exporter": "python",
   "pygments_lexer": "ipython3",
   "version": "3.11.9"
  }
 },
 "nbformat": 4,
 "nbformat_minor": 5
}
