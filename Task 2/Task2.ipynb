{
 "cells": [
  {
   "cell_type": "code",
   "execution_count": 56,
   "id": "17f4a872-f612-4fa1-b892-49ea385ec7b1",
   "metadata": {},
   "outputs": [],
   "source": [
    "import pandas as pd\n",
    "import numpy as np\n",
    "import plotly.graph_objects as go\n",
    "from datetime import datetime\n",
    "import pytz\n",
    "import os\n",
    "import plotly.io as pio"
   ]
  },
  {
   "cell_type": "code",
   "execution_count": 57,
   "id": "1bb11a05",
   "metadata": {},
   "outputs": [
    {
     "name": "stdout",
     "output_type": "stream",
     "text": [
      "App Data Columns: Index(['App', 'Category', 'Rating', 'Reviews', 'Size', 'Installs', 'Type',\n",
      "       'Price', 'Content Rating', 'Genres', 'Last Updated', 'Current Ver',\n",
      "       'Android Ver'],\n",
      "      dtype='object')\n"
     ]
    }
   ],
   "source": [
    "# Reading the dataset\n",
    "app_data = pd.read_csv(\"C:/Users/Ayush Singh/NullClass/google_play_store_data/googleplaystore.csv\")\n",
    "print(\"App Data Columns:\", app_data.columns)"
   ]
  },
  {
   "cell_type": "code",
   "execution_count": 58,
   "id": "ca79409a",
   "metadata": {},
   "outputs": [],
   "source": [
    "# Handling 'Size' column and converting to numeric\n",
    "app_data['Size'] = app_data['Size'].replace('Varies with device', None)\n",
    "app_data['Size'] = app_data['Size'].str.replace('M', '').str.replace('k', '')\n",
    "app_data['Size'] = pd.to_numeric(app_data['Size'], errors='coerce')"
   ]
  },
  {
   "cell_type": "code",
   "execution_count": 59,
   "id": "ca3cb779",
   "metadata": {},
   "outputs": [],
   "source": [
    "# Converting Last Updated to datetime\n",
    "app_data['Last Updated'] = pd.to_datetime(app_data['Last Updated'], errors='coerce')"
   ]
  },
  {
   "cell_type": "code",
   "execution_count": 60,
   "id": "1cd91a7b",
   "metadata": {},
   "outputs": [],
   "source": [
    "# Converting Reviews column to numeric\n",
    "app_data['Reviews'] = pd.to_numeric(app_data['Reviews'], errors='coerce')"
   ]
  },
  {
   "cell_type": "code",
   "execution_count": 61,
   "id": "7b6d9de1",
   "metadata": {},
   "outputs": [],
   "source": [
    "# Filtering data\n",
    "df_filtered = app_data[\n",
    "    (app_data['Rating'] >= 4.0) &\n",
    "    (app_data['Size'] >= 10) & \n",
    "    (app_data['Last Updated'].notna())\n",
    "]"
   ]
  },
  {
   "cell_type": "code",
   "execution_count": 62,
   "id": "383c9ee2",
   "metadata": {},
   "outputs": [],
   "source": [
    "# Last Updated is datetime\n",
    "if not pd.api.types.is_datetime64_any_dtype(app_data['Last Updated']):\n",
    "    app_data['Last Updated'] = pd.to_datetime(app_data['Last Updated'], errors='coerce')"
   ]
  },
  {
   "cell_type": "code",
   "execution_count": 63,
   "id": "d94ed3f6",
   "metadata": {},
   "outputs": [],
   "source": [
    "# Filter by apps updated in January\n",
    "df_filtered = df_filtered[df_filtered['Last Updated'].dt.month == 1]"
   ]
  },
  {
   "cell_type": "code",
   "execution_count": 64,
   "id": "e20e2cc5",
   "metadata": {},
   "outputs": [],
   "source": [
    "# Grouping data by Category\n",
    "df_grouped = df_filtered.groupby('Category').agg(\n",
    "    average_rating=('Rating', 'mean'),\n",
    "    review_count=('Reviews', 'sum')\n",
    ").sort_values(by='review_count', ascending=False).head(10)"
   ]
  },
  {
   "cell_type": "code",
   "execution_count": 65,
   "id": "e4e5f1d3",
   "metadata": {},
   "outputs": [],
   "source": [
    "# Get current time\n",
    "now_ist = datetime.now(pytz.timezone('Asia/Kolkata'))\n",
    "current_hour = now_ist.hour"
   ]
  },
  {
   "cell_type": "code",
   "execution_count": 66,
   "id": "c004042e",
   "metadata": {},
   "outputs": [
    {
     "name": "stdout",
     "output_type": "stream",
     "text": [
      "The graph is only available between 3 PM and 5 PM IST.\n"
     ]
    }
   ],
   "source": [
    "# Checking if the current time is between 3 PM and 5 PM\n",
    "if 15 <= current_hour < 17:\n",
    "    categories = df_grouped.index\n",
    "\n",
    "    # Creating a bar chart\n",
    "    fig = go.Figure()\n",
    "\n",
    "    fig.add_trace(go.Bar(\n",
    "        x=categories,\n",
    "        y=df_grouped['average_rating'],\n",
    "        name='Average Rating',\n",
    "        marker_color='blue'\n",
    "    ))\n",
    "\n",
    "    fig.add_trace(go.Bar(\n",
    "        x=categories,\n",
    "        y=df_grouped['review_count'],\n",
    "        name='Total Review Count',\n",
    "        marker_color='orange'\n",
    "    ))\n",
    "\n",
    "    fig.update_layout(\n",
    "        title=\"Top 10 App Categories by Average Rating and Review Count\",\n",
    "        xaxis_title=\"Category\",\n",
    "        yaxis_title=\"Values\",\n",
    "        barmode='group',\n",
    "        xaxis_tickangle=45\n",
    "    )\n",
    "\n",
    "    # Path to save HTML and PNG files\n",
    "    html_files_path = \"./\"\n",
    "    if not os.path.exists(html_files_path):\n",
    "        os.makedirs(html_files_path)\n",
    "\n",
    "    # Save as HTML\n",
    "    file_path_html = os.path.join(html_files_path, \"Bar_Graph.html\")\n",
    "    fig.write_html(file_path_html)\n",
    "\n",
    "    # Save as PNG\n",
    "    file_path_png = os.path.join(html_files_path, \"Bar_Graph.png\")\n",
    "    pio.write_image(fig, file_path_png)\n",
    "\n",
    "    # Show \n",
    "    fig.show() \n",
    "else:\n",
    "    print(\"The graph is only available between 3 PM and 5 PM.\")\n"
   ]
  }
 ],
 "metadata": {
  "kernelspec": {
   "display_name": "Python 3",
   "language": "python",
   "name": "python3"
  },
  "language_info": {
   "codemirror_mode": {
    "name": "ipython",
    "version": 3
   },
   "file_extension": ".py",
   "mimetype": "text/x-python",
   "name": "python",
   "nbconvert_exporter": "python",
   "pygments_lexer": "ipython3",
   "version": "3.11.9"
  }
 },
 "nbformat": 4,
 "nbformat_minor": 5
}
